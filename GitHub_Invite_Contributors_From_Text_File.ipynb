{
  "nbformat": 4,
  "nbformat_minor": 0,
  "metadata": {
    "colab": {
      "provenance": []
    },
    "kernelspec": {
      "name": "python3",
      "display_name": "Python 3"
    },
    "language_info": {
      "name": "python"
    }
  },
  "cells": [
    {
      "cell_type": "code",
      "source": [
        "# Required installs\n",
        "!pip install PyGitHub"
      ],
      "metadata": {
        "collapsed": true,
        "id": "jUibikjhvUZI"
      },
      "execution_count": null,
      "outputs": []
    },
    {
      "cell_type": "code",
      "source": [
        "# Replace with your file name and path\n",
        "file_path = \"GitHub Usernames Fall 2025.txt\"\n",
        "\n",
        "try:\n",
        "    with open(file_path, 'r') as file:\n",
        "        usernames = file.readlines()\n",
        "    cleaned_usernames = [line.strip() for line in usernames]\n",
        "    print(cleaned_usernames)\n",
        "\n",
        "except FileNotFoundError:\n",
        "    print(f\"Error: The file '{file_path}' was not found.\")\n",
        "except Exception as e:\n",
        "    print(f\"An error occurred: {e}\")"
      ],
      "metadata": {
        "collapsed": true,
        "id": "rgDb1Qwzwpv_"
      },
      "execution_count": null,
      "outputs": []
    },
    {
      "cell_type": "code",
      "source": [
        "len(usernames)"
      ],
      "metadata": {
        "id": "_3FyZeNCF1fn"
      },
      "execution_count": null,
      "outputs": []
    },
    {
      "cell_type": "code",
      "source": [
        "from github import Github\n",
        "from google.colab import userdata\n",
        "\n",
        "# Replace with your GitHub Personal Access Token\n",
        "GITHUB_TOKEN = userdata.get('GitHub_Access_Token')\n",
        "\n",
        "# Replace with the repository owner and name\n",
        "REPO_OWNER = 'cheaptrix2'\n",
        "REPO_NAME = 'TESTING-API'\n",
        "\n",
        "# Invite the collaborator with 'push' permission (or other desired permission like 'pull', 'admin')\n",
        "PERMISSION = 'push'\n",
        "\n",
        "# Loop to go through list of usernames and add as contributor\n",
        "for i in range(len(cleaned_usernames)):\n",
        "  # Replace with the username of the person to invite\n",
        "  COLLABORATOR_USERNAME = cleaned_usernames[i]\n",
        "\n",
        "  try:\n",
        "      g = Github(GITHUB_TOKEN)\n",
        "      user = g.get_user() # Get the authenticated user\n",
        "      repo = g.get_user(REPO_OWNER).get_repo(REPO_NAME)\n",
        "      repo.add_to_collaborators(COLLABORATOR_USERNAME, permission=PERMISSION)\n",
        "      print(f\"Invitation sent to {COLLABORATOR_USERNAME} for repository {REPO_OWNER}/{REPO_NAME}\")\n",
        "\n",
        "  except Exception as e:\n",
        "      print(f\"An error occurred: {e}\")"
      ],
      "metadata": {
        "id": "ozDWpZBLvXpM"
      },
      "execution_count": null,
      "outputs": []
    },
    {
      "cell_type": "code",
      "source": [],
      "metadata": {
        "id": "aywV2yFPxyX_"
      },
      "execution_count": null,
      "outputs": []
    }
  ]
}